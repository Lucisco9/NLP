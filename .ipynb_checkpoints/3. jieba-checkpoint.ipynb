{
 "cells": [
  {
   "cell_type": "code",
   "execution_count": 3,
   "metadata": {},
   "outputs": [],
   "source": [
    "import warnings\n",
    "warnings.filterwarnings(\"ignore\")"
   ]
  },
  {
   "cell_type": "markdown",
   "metadata": {},
   "source": [
    "# 1. 分詞工具 - jieba"
   ]
  },
  {
   "cell_type": "markdown",
   "metadata": {},
   "source": [
    "* 精確模式：試圖將句子最精確地切開，適合文本分析。\n",
    "* 全模式：把句子中所有可以成詞的詞語都掃描出來，速度非常快，但是不能解決歧義。\n",
    "* 搜尋引擎模式：在精確模式的基礎上，對長詞再次切分，提高召回率，適合用於搜尋引擎分詞。"
   ]
  },
  {
   "cell_type": "code",
   "execution_count": 2,
   "metadata": {},
   "outputs": [],
   "source": [
    "# !pip3 install jieba"
   ]
  },
  {
   "cell_type": "code",
   "execution_count": 4,
   "metadata": {},
   "outputs": [
    {
     "name": "stdout",
     "output_type": "stream",
     "text": [
      "[全模式]: 哥 穿著 復 古 西 裝 ， 拿 著 手杖 ， 彈 著 魔法 樂 章 ， 漫步 走 在 莎 瑪 麗 丹 。\n",
      "[精準模式]: 哥 穿著 復 古西裝 ， 拿 著 手杖 ， 彈著 魔法 樂章 ， 漫步 走 在 莎瑪麗丹 。\n"
     ]
    }
   ],
   "source": [
    "import jieba\n",
    "\n",
    "seg_list = jieba.cut(\"哥穿著復古西裝，拿著手杖，彈著魔法樂章，漫步走在莎瑪麗丹。\", cut_all=True)\n",
    "print(\"[全模式]: \" + \" \".join(seg_list))#用空格黏起來\n",
    "\n",
    "seg_list = jieba.cut(\"哥穿著復古西裝，拿著手杖，彈著魔法樂章，漫步走在莎瑪麗丹。\")  # 默認精确模式\n",
    "print(\"[精準模式]: \" +\" \".join(seg_list))"
   ]
  },
  {
   "cell_type": "markdown",
   "metadata": {},
   "source": [
    "# 2. 添加自訂義字典"
   ]
  },
  {
   "cell_type": "code",
   "execution_count": 6,
   "metadata": {},
   "outputs": [
    {
     "name": "stdout",
     "output_type": "stream",
     "text": [
      "[全模式]:  哥 穿著 復 古 西 裝 ， 拿 著 手杖 ， 彈 著 魔法 樂 章 ， 漫步 走 在 莎 瑪 麗 丹 。\n",
      "[精準模式]:  哥 穿著 復 古西裝 ， 拿 著 手杖 ， 彈著 魔法 樂章 ， 漫步 走 在 莎瑪麗丹 。\n"
     ]
    }
   ],
   "source": [
    "text = \"哥穿著復古西裝，拿著手杖，彈著魔法樂章，漫步走在莎瑪麗丹。\"\n",
    "\n",
    "# 全模式\n",
    "seg_list = jieba.cut(text, cut_all=True)\n",
    "print(\"[全模式]: \", \" \".join(seg_list))\n",
    "\n",
    "# 精确模式\n",
    "seg_list = jieba.cut(text, cut_all=False)\n",
    "print(\"[精準模式]: \", \" \".join(seg_list))"
   ]
  },
  {
   "cell_type": "code",
   "execution_count": 8,
   "metadata": {},
   "outputs": [
    {
     "name": "stdout",
     "output_type": "stream",
     "text": [
      "[全模式]:  哥 穿著 復古 西裝 ， 拿著 手杖 ， 彈著 魔法 樂 章 ， 漫步 走 在 莎 瑪 麗 丹 。\n",
      "[精準模式]:  哥 穿著 復古 西裝 ， 拿著 手杖 ， 彈著 魔法 樂章 ， 漫步 走 在 莎瑪麗丹 。\n"
     ]
    }
   ],
   "source": [
    "# Method 1 (單詞) 將字詞加進去(逐一)\n",
    "jieba.add_word(\"復古\")\n",
    "\n",
    "# Method 2 (多詞) 多詞用檔案加入\n",
    "jieba.load_userdict(\"./data/mydict.txt\") #需UTF-8，可以存在此\n",
    "\n",
    "text = \"哥穿著復古西裝，拿著手杖，彈著魔法樂章，漫步走在莎瑪麗丹。\"\n",
    "\n",
    "# 全模式\n",
    "seg_list = jieba.cut(text, cut_all=True)\n",
    "print(\"[全模式]: \", \" \".join(seg_list))\n",
    "\n",
    "# 精确模式\n",
    "seg_list = jieba.cut(text, cut_all=False)\n",
    "print(\"[精準模式]: \", \" \".join(seg_list))"
   ]
  },
  {
   "cell_type": "markdown",
   "metadata": {},
   "source": [
    "# 3. 關鍵字抽取 (TF-IDF)"
   ]
  },
  {
   "cell_type": "code",
   "execution_count": 9,
   "metadata": {},
   "outputs": [
    {
     "name": "stdout",
     "output_type": "stream",
     "text": [
      "分詞結果: 哥 穿著 復古 西裝 ， 拿著 手杖 ， 彈著 魔法 樂章 ， 漫步 走 在 莎瑪麗丹 。\n",
      "Top5 提取關鍵詞結果: 穿著 復古 西裝 拿著 彈著\n"
     ]
    }
   ],
   "source": [
    "import jieba.analyse\n",
    "#分析前五個重要的單字並取出\n",
    "seg_list = jieba.cut(text, cut_all=False)\n",
    "print(\"分詞結果:\", \" \".join(seg_list))\n",
    "\n",
    "# 獲取關鍵字\n",
    "tags = jieba.analyse.extract_tags(text, topK=5) #extract_tags指定前5\n",
    "print(\"Top5 提取關鍵詞結果:\", \" \".join(tags))"
   ]
  },
  {
   "cell_type": "code",
   "execution_count": 12,
   "metadata": {},
   "outputs": [],
   "source": [
    "import pandas as pd"
   ]
  },
  {
   "cell_type": "code",
   "execution_count": 13,
   "metadata": {},
   "outputs": [
    {
     "data": {
      "text/html": [
       "<div>\n",
       "<style scoped>\n",
       "    .dataframe tbody tr th:only-of-type {\n",
       "        vertical-align: middle;\n",
       "    }\n",
       "\n",
       "    .dataframe tbody tr th {\n",
       "        vertical-align: top;\n",
       "    }\n",
       "\n",
       "    .dataframe thead th {\n",
       "        text-align: right;\n",
       "    }\n",
       "</style>\n",
       "<table border=\"1\" class=\"dataframe\">\n",
       "  <thead>\n",
       "    <tr style=\"text-align: right;\">\n",
       "      <th></th>\n",
       "      <th>words</th>\n",
       "      <th>weight</th>\n",
       "    </tr>\n",
       "  </thead>\n",
       "  <tbody>\n",
       "    <tr>\n",
       "      <th>0</th>\n",
       "      <td>穿著</td>\n",
       "      <td>1.210892</td>\n",
       "    </tr>\n",
       "    <tr>\n",
       "      <th>1</th>\n",
       "      <td>復古</td>\n",
       "      <td>1.195477</td>\n",
       "    </tr>\n",
       "    <tr>\n",
       "      <th>2</th>\n",
       "      <td>西裝</td>\n",
       "      <td>1.195477</td>\n",
       "    </tr>\n",
       "    <tr>\n",
       "      <th>3</th>\n",
       "      <td>拿著</td>\n",
       "      <td>1.195477</td>\n",
       "    </tr>\n",
       "    <tr>\n",
       "      <th>4</th>\n",
       "      <td>彈著</td>\n",
       "      <td>1.195477</td>\n",
       "    </tr>\n",
       "  </tbody>\n",
       "</table>\n",
       "</div>"
      ],
      "text/plain": [
       "  words    weight\n",
       "0    穿著  1.210892\n",
       "1    復古  1.195477\n",
       "2    西裝  1.195477\n",
       "3    拿著  1.195477\n",
       "4    彈著  1.195477"
      ]
     },
     "execution_count": 13,
     "metadata": {},
     "output_type": "execute_result"
    }
   ],
   "source": [
    "tags = jieba.analyse.extract_tags(text, topK=5, withWeight=True)\n",
    "\n",
    "pd.DataFrame(tags, columns = ['words', 'weight'])"
   ]
  },
  {
   "cell_type": "markdown",
   "metadata": {},
   "source": [
    "# 4. 詞性標註"
   ]
  },
  {
   "cell_type": "code",
   "execution_count": 17,
   "metadata": {},
   "outputs": [
    {
     "data": {
      "text/html": [
       "<div>\n",
       "<style scoped>\n",
       "    .dataframe tbody tr th:only-of-type {\n",
       "        vertical-align: middle;\n",
       "    }\n",
       "\n",
       "    .dataframe tbody tr th {\n",
       "        vertical-align: top;\n",
       "    }\n",
       "\n",
       "    .dataframe thead th {\n",
       "        text-align: right;\n",
       "    }\n",
       "</style>\n",
       "<table border=\"1\" class=\"dataframe\">\n",
       "  <thead>\n",
       "    <tr style=\"text-align: right;\">\n",
       "      <th></th>\n",
       "      <th>words</th>\n",
       "      <th>flags</th>\n",
       "    </tr>\n",
       "  </thead>\n",
       "  <tbody>\n",
       "    <tr>\n",
       "      <th>0</th>\n",
       "      <td>林維彥</td>\n",
       "      <td>nr</td>\n",
       "    </tr>\n",
       "  </tbody>\n",
       "</table>\n",
       "</div>"
      ],
      "text/plain": [
       "  words flags\n",
       "0   林維彥    nr"
      ]
     },
     "execution_count": 17,
     "metadata": {},
     "output_type": "execute_result"
    }
   ],
   "source": [
    "import jieba.posseg as pseg\n",
    " \n",
    "words = pseg.cut(\"哥穿著復古西裝，拿著手杖，彈著魔法樂章，漫步走在莎瑪麗丹。\")\n",
    "\n",
    "pd.DataFrame(words, columns = ['words', 'flags'])"
   ]
  },
  {
   "cell_type": "markdown",
   "metadata": {},
   "source": [
    "* 參考資料：https://www.cnblogs.com/chenbjin/p/4341930.html\n",
    "\n",
    "|代碼|名稱|\n",
    "| --- | --- |\n",
    "|Ag|形語素|\n",
    "|a|形容詞|\n",
    "|ad|副形詞|\n",
    "|an|名形詞|\n",
    "|b|區別詞|\n",
    "|c|連詞|\n",
    "|Dg|副語素|\n",
    "|d|副詞|\n",
    "|e|嘆詞|\n",
    "|f|方位詞|\n",
    "|g|語素|\n",
    "|h|前接成分|\n",
    "|i|成語|\n",
    "|j|簡稱略語|\n",
    "|k|後接成分|\n",
    "|l|習用語|\n",
    "|m|數詞|\n",
    "|Ng|名語素|\n",
    "|n|名詞|\n",
    "|nr|人名|\n",
    "|ns|地名|\n",
    "|nt|機構團體|\n",
    "|nz|其他專名|\n",
    "|o|擬聲詞|\n",
    "|p|介詞|\n",
    "|q|量詞|\n",
    "|r|代詞|\n",
    "|s|處所詞|\n",
    "|Tg|時語素|\n",
    "|t|時間詞|\n",
    "|u|助詞|\n",
    "|Vg|動語素|\n",
    "|v|動詞|\n",
    "|vd|副動詞|\n",
    "|vn|名動詞|\n",
    "|w|標點符號|\n",
    "|x|非語素字|\n",
    "|y|語氣詞|\n",
    "|z|狀態詞|"
   ]
  },
  {
   "cell_type": "markdown",
   "metadata": {},
   "source": [
    "# 5. 範例"
   ]
  },
  {
   "cell_type": "code",
   "execution_count": 34,
   "metadata": {},
   "outputs": [
    {
     "name": "stderr",
     "output_type": "stream",
     "text": [
      "WARNING: Skipping pillow as it is not installed.\n"
     ]
    },
    {
     "name": "stdout",
     "output_type": "stream",
     "text": [
      "Found existing installation: scipy 1.10.1\n",
      "Uninstalling scipy-1.10.1:\n"
     ]
    },
    {
     "name": "stderr",
     "output_type": "stream",
     "text": [
      "ERROR: Exception:\n",
      "Traceback (most recent call last):\n",
      "  File \"c:\\program files\\python38\\lib\\shutil.py\", line 780, in move\n",
      "    os.rename(src, real_dst)\n",
      "PermissionError: [WinError 5] 存取被拒。: 'c:\\\\program files\\\\python38\\\\lib\\\\site-packages\\\\scipy-1.10.1-cp38-cp38-win_amd64.whl' -> 'C:\\\\Users\\\\student\\\\AppData\\\\Local\\\\Temp\\\\pip-uninstall-gd44k0rc\\\\scipy-1.10.1-cp38-cp38-win_amd64.whl'\n",
      "\n",
      "During handling of the above exception, another exception occurred:\n",
      "\n",
      "Traceback (most recent call last):\n",
      "  File \"c:\\program files\\python38\\lib\\site-packages\\pip\\_internal\\cli\\base_command.py\", line 169, in exc_logging_wrapper\n",
      "    status = run_func(*args)\n",
      "  File \"c:\\program files\\python38\\lib\\site-packages\\pip\\_internal\\commands\\uninstall.py\", line 105, in run\n",
      "    uninstall_pathset = req.uninstall(\n",
      "  File \"c:\\program files\\python38\\lib\\site-packages\\pip\\_internal\\req\\req_install.py\", line 680, in uninstall\n",
      "    uninstalled_pathset.remove(auto_confirm, verbose)\n",
      "  File \"c:\\program files\\python38\\lib\\site-packages\\pip\\_internal\\req\\req_uninstall.py\", line 381, in remove\n",
      "    moved.stash(path)\n",
      "  File \"c:\\program files\\python38\\lib\\site-packages\\pip\\_internal\\req\\req_uninstall.py\", line 272, in stash\n",
      "    renames(path, new_path)\n",
      "  File \"c:\\program files\\python38\\lib\\site-packages\\pip\\_internal\\utils\\misc.py\", line 313, in renames\n",
      "    shutil.move(old, new)\n",
      "  File \"c:\\program files\\python38\\lib\\shutil.py\", line 795, in move\n",
      "    os.unlink(src)\n",
      "PermissionError: [WinError 5] 存取被拒。: 'c:\\\\program files\\\\python38\\\\lib\\\\site-packages\\\\scipy-1.10.1-cp38-cp38-win_amd64.whl'\n"
     ]
    }
   ],
   "source": [
    "!pip3 uninstall -y pillow\n",
    "!pip3 uninstall -y scipy"
   ]
  },
  {
   "cell_type": "code",
   "execution_count": 35,
   "metadata": {
    "scrolled": true
   },
   "outputs": [
    {
     "name": "stdout",
     "output_type": "stream",
     "text": [
      "Defaulting to user installation because normal site-packages is not writeable\n",
      "Collecting pillow\n",
      "  Using cached Pillow-9.5.0-cp38-cp38-win_amd64.whl (2.5 MB)\n",
      "Installing collected packages: pillow\n",
      "Successfully installed pillow-9.5.0\n"
     ]
    }
   ],
   "source": [
    "!pip3 install pillow\n",
    "# !pip3 install scipy==1.1.0"
   ]
  },
  {
   "cell_type": "code",
   "execution_count": 36,
   "metadata": {
    "collapsed": true
   },
   "outputs": [
    {
     "name": "stdout",
     "output_type": "stream",
     "text": [
      "Defaulting to user installation because normal site-packages is not writeable\n",
      "Requirement already satisfied: wordcloud in c:\\users\\student\\appdata\\roaming\\python\\python38\\site-packages (1.9.2)\n",
      "Requirement already satisfied: numpy>=1.6.1 in c:\\program files\\python38\\lib\\site-packages (from wordcloud) (1.24.3)\n",
      "Requirement already satisfied: pillow in c:\\users\\student\\appdata\\roaming\\python\\python38\\site-packages (from wordcloud) (9.5.0)\n",
      "Requirement already satisfied: matplotlib in c:\\users\\student\\appdata\\roaming\\python\\python38\\site-packages (from wordcloud) (3.7.1)\n",
      "Requirement already satisfied: contourpy>=1.0.1 in c:\\users\\student\\appdata\\roaming\\python\\python38\\site-packages (from matplotlib->wordcloud) (1.1.0)\n",
      "Requirement already satisfied: cycler>=0.10 in c:\\users\\student\\appdata\\roaming\\python\\python38\\site-packages (from matplotlib->wordcloud) (0.11.0)\n",
      "Requirement already satisfied: fonttools>=4.22.0 in c:\\users\\student\\appdata\\roaming\\python\\python38\\site-packages (from matplotlib->wordcloud) (4.40.0)\n",
      "Requirement already satisfied: kiwisolver>=1.0.1 in c:\\users\\student\\appdata\\roaming\\python\\python38\\site-packages (from matplotlib->wordcloud) (1.4.4)\n",
      "Requirement already satisfied: packaging>=20.0 in c:\\program files\\python38\\lib\\site-packages (from matplotlib->wordcloud) (23.1)\n",
      "Requirement already satisfied: pyparsing>=2.3.1 in c:\\users\\student\\appdata\\roaming\\python\\python38\\site-packages (from matplotlib->wordcloud) (3.0.9)\n",
      "Requirement already satisfied: python-dateutil>=2.7 in c:\\program files\\python38\\lib\\site-packages (from matplotlib->wordcloud) (2.8.2)\n",
      "Requirement already satisfied: importlib-resources>=3.2.0 in c:\\program files\\python38\\lib\\site-packages (from matplotlib->wordcloud) (5.12.0)\n",
      "Requirement already satisfied: zipp>=3.1.0 in c:\\program files\\python38\\lib\\site-packages (from importlib-resources>=3.2.0->matplotlib->wordcloud) (3.15.0)\n",
      "Requirement already satisfied: six>=1.5 in c:\\program files\\python38\\lib\\site-packages (from python-dateutil>=2.7->matplotlib->wordcloud) (1.16.0)\n"
     ]
    }
   ],
   "source": [
    "!pip3 install wordcloud"
   ]
  },
  {
   "cell_type": "code",
   "execution_count": 38,
   "metadata": {},
   "outputs": [
    {
     "ename": "ModuleNotFoundError",
     "evalue": "No module named 'PIL'",
     "output_type": "error",
     "traceback": [
      "\u001b[1;31m---------------------------------------------------------------------------\u001b[0m",
      "\u001b[1;31mModuleNotFoundError\u001b[0m                       Traceback (most recent call last)",
      "Cell \u001b[1;32mIn[38], line 1\u001b[0m\n\u001b[1;32m----> 1\u001b[0m \u001b[38;5;28;01mimport\u001b[39;00m \u001b[38;5;21;01mPIL\u001b[39;00m; \n\u001b[0;32m      2\u001b[0m \u001b[38;5;28mprint\u001b[39m(\u001b[38;5;124m'\u001b[39m\u001b[38;5;124mPIL version:\u001b[39m\u001b[38;5;124m'\u001b[39m \u001b[38;5;241m+\u001b[39m PIL\u001b[38;5;241m.\u001b[39m__version__) \u001b[38;5;66;03m# 5.2.0\u001b[39;00m\n\u001b[0;32m      3\u001b[0m \u001b[38;5;66;03m# import scipy; print('scipy version:' + scipy.__version__) # 1.1.0\u001b[39;00m\n",
      "\u001b[1;31mModuleNotFoundError\u001b[0m: No module named 'PIL'"
     ]
    }
   ],
   "source": [
    "import PIL; \n",
    "print('PIL version:' + PIL.__version__) # 5.2.0\n",
    "# import scipy; print('scipy version:' + scipy.__version__) # 1.1.0"
   ]
  },
  {
   "cell_type": "code",
   "execution_count": 31,
   "metadata": {},
   "outputs": [
    {
     "ename": "ModuleNotFoundError",
     "evalue": "No module named 'wordcloud'",
     "output_type": "error",
     "traceback": [
      "\u001b[1;31m---------------------------------------------------------------------------\u001b[0m",
      "\u001b[1;31mModuleNotFoundError\u001b[0m                       Traceback (most recent call last)",
      "Cell \u001b[1;32mIn[31], line 1\u001b[0m\n\u001b[1;32m----> 1\u001b[0m \u001b[38;5;28;01mfrom\u001b[39;00m \u001b[38;5;21;01mwordcloud\u001b[39;00m \u001b[38;5;28;01mimport\u001b[39;00m WordCloud\n\u001b[0;32m      2\u001b[0m \u001b[38;5;28;01mimport\u001b[39;00m \u001b[38;5;21;01mmatplotlib\u001b[39;00m\u001b[38;5;21;01m.\u001b[39;00m\u001b[38;5;21;01mpyplot\u001b[39;00m \u001b[38;5;28;01mas\u001b[39;00m \u001b[38;5;21;01mplt\u001b[39;00m\n",
      "\u001b[1;31mModuleNotFoundError\u001b[0m: No module named 'wordcloud'"
     ]
    }
   ],
   "source": [
    "from wordcloud import WordCloud\n",
    "import matplotlib.pyplot as plt"
   ]
  },
  {
   "cell_type": "code",
   "execution_count": 16,
   "metadata": {},
   "outputs": [
    {
     "data": {
      "text/html": [
       "<div>\n",
       "<style scoped>\n",
       "    .dataframe tbody tr th:only-of-type {\n",
       "        vertical-align: middle;\n",
       "    }\n",
       "\n",
       "    .dataframe tbody tr th {\n",
       "        vertical-align: top;\n",
       "    }\n",
       "\n",
       "    .dataframe thead th {\n",
       "        text-align: right;\n",
       "    }\n",
       "</style>\n",
       "<table border=\"1\" class=\"dataframe\">\n",
       "  <thead>\n",
       "    <tr style=\"text-align: right;\">\n",
       "      <th></th>\n",
       "      <th>song</th>\n",
       "      <th>lyric</th>\n",
       "    </tr>\n",
       "  </thead>\n",
       "  <tbody>\n",
       "    <tr>\n",
       "      <th>0</th>\n",
       "      <td>可愛女人</td>\n",
       "      <td>作詞：徐若瑄\\n\\n作曲：周杰倫\\n\\n編曲：周杰倫\\n\\n想要有直升機 想要和妳飛到宇宙去...</td>\n",
       "    </tr>\n",
       "    <tr>\n",
       "      <th>1</th>\n",
       "      <td>完美主義</td>\n",
       "      <td>作詞：方文山\\n\\n作曲：周杰倫\\n\\n編曲：洪敬堯\\n\\n如果說懷疑 可以造句 如果說分離...</td>\n",
       "    </tr>\n",
       "    <tr>\n",
       "      <th>2</th>\n",
       "      <td>星晴</td>\n",
       "      <td>作詞：周杰倫\\n\\n作曲：周杰倫\\n\\n編曲：洪敬堯\\n\\n一步兩步三步四步 望著天\\n\\n...</td>\n",
       "    </tr>\n",
       "    <tr>\n",
       "      <th>3</th>\n",
       "      <td>娘子</td>\n",
       "      <td>作詞：方文山\\n\\n作曲：周杰倫\\n\\n編曲：周杰倫\\n\\n娘子 娘子卻依舊每日折一枝楊柳\\...</td>\n",
       "    </tr>\n",
       "    <tr>\n",
       "      <th>4</th>\n",
       "      <td>鬥牛</td>\n",
       "      <td>作詞：方文山\\n\\n作曲：周杰倫\\n\\n編曲：洪敬堯\\n\\n要不要挑一下 啊 挑一下丫 隨便...</td>\n",
       "    </tr>\n",
       "    <tr>\n",
       "      <th>...</th>\n",
       "      <td>...</td>\n",
       "      <td>...</td>\n",
       "    </tr>\n",
       "    <tr>\n",
       "      <th>175</th>\n",
       "      <td>床邊故事</td>\n",
       "      <td>作詞：方文山\\n\\n作曲：周杰倫\\n\\n編曲：黃雨勳\\n\\n從前從前有隻貓頭鷹 牠站在屋頂\\...</td>\n",
       "    </tr>\n",
       "    <tr>\n",
       "      <th>176</th>\n",
       "      <td>愛情廢柴</td>\n",
       "      <td>作詞：周杰倫\\n\\n作曲：周杰倫\\n\\n編曲：黃雨勳\\n\\n聖誕節 剩下單人的剩單節\\n\\n...</td>\n",
       "    </tr>\n",
       "    <tr>\n",
       "      <th>177</th>\n",
       "      <td>英雄</td>\n",
       "      <td>作詞：周杰倫\\n\\n作曲：周杰倫\\n\\n編曲：黃雨勳\\n\\n人生不是一個人的遊戲\\n\\n一起...</td>\n",
       "    </tr>\n",
       "    <tr>\n",
       "      <th>178</th>\n",
       "      <td>說走就走</td>\n",
       "      <td>作詞：方文山\\n\\n作曲：周杰倫\\n\\n編曲：黃雨勳\\n\\n伸出手 搭便車 唱著歌 彈著斑鳩...</td>\n",
       "    </tr>\n",
       "    <tr>\n",
       "      <th>179</th>\n",
       "      <td>不該</td>\n",
       "      <td>作詞：方文山\\n\\n作曲：周杰倫\\n\\n編曲：黃雨勳\\n\\n周：假裝我們還在一塊 我真的演不...</td>\n",
       "    </tr>\n",
       "  </tbody>\n",
       "</table>\n",
       "<p>180 rows × 2 columns</p>\n",
       "</div>"
      ],
      "text/plain": [
       "     song                                              lyric\n",
       "0    可愛女人  作詞：徐若瑄\\n\\n作曲：周杰倫\\n\\n編曲：周杰倫\\n\\n想要有直升機 想要和妳飛到宇宙去...\n",
       "1    完美主義  作詞：方文山\\n\\n作曲：周杰倫\\n\\n編曲：洪敬堯\\n\\n如果說懷疑 可以造句 如果說分離...\n",
       "2      星晴  作詞：周杰倫\\n\\n作曲：周杰倫\\n\\n編曲：洪敬堯\\n\\n一步兩步三步四步 望著天\\n\\n...\n",
       "3      娘子  作詞：方文山\\n\\n作曲：周杰倫\\n\\n編曲：周杰倫\\n\\n娘子 娘子卻依舊每日折一枝楊柳\\...\n",
       "4      鬥牛  作詞：方文山\\n\\n作曲：周杰倫\\n\\n編曲：洪敬堯\\n\\n要不要挑一下 啊 挑一下丫 隨便...\n",
       "..    ...                                                ...\n",
       "175  床邊故事  作詞：方文山\\n\\n作曲：周杰倫\\n\\n編曲：黃雨勳\\n\\n從前從前有隻貓頭鷹 牠站在屋頂\\...\n",
       "176  愛情廢柴  作詞：周杰倫\\n\\n作曲：周杰倫\\n\\n編曲：黃雨勳\\n\\n聖誕節 剩下單人的剩單節\\n\\n...\n",
       "177    英雄  作詞：周杰倫\\n\\n作曲：周杰倫\\n\\n編曲：黃雨勳\\n\\n人生不是一個人的遊戲\\n\\n一起...\n",
       "178  說走就走  作詞：方文山\\n\\n作曲：周杰倫\\n\\n編曲：黃雨勳\\n\\n伸出手 搭便車 唱著歌 彈著斑鳩...\n",
       "179    不該  作詞：方文山\\n\\n作曲：周杰倫\\n\\n編曲：黃雨勳\\n\\n周：假裝我們還在一塊 我真的演不...\n",
       "\n",
       "[180 rows x 2 columns]"
      ]
     },
     "execution_count": 16,
     "metadata": {},
     "output_type": "execute_result"
    }
   ],
   "source": [
    "jay_ori = pd.read_csv('./簡轉繁/jay_song_tw.csv', \n",
    "                  sep = \",\", encoding = \"UTF-8\")\n",
    "jay = jay_ori[['song', 'lyric']]\n",
    "jay"
   ]
  },
  {
   "cell_type": "markdown",
   "metadata": {},
   "source": [
    "## 文字清整"
   ]
  },
  {
   "cell_type": "code",
   "execution_count": 18,
   "metadata": {},
   "outputs": [],
   "source": [
    "# 只取中文\n",
    "import re\n",
    "jay['lyric']= jay['lyric'].str.replace(r'([^\\u4e00-\\u9fa5]+)','', regex=True)\n",
    "\n",
    "# 加入自定義字典\n",
    "jieba.load_userdict(\"./data/mydict.txt\") #需UTF-8，可以存在此\n",
    "\n",
    "# 加入stop words\n",
    "def stopwordlist():\n",
    "    stopwords = [line.strip() for line in open('./data/stop_words.txt',encoding='UTF-8').readlines()]\n",
    "    return stopwords\n",
    "stopwords = stopwordlist()\n",
    "\n",
    "# 斷詞並同時去除stop words\n",
    "jay['lyric_cut'] = jay['lyric'].astype(str).apply(lambda x : [i for i in jieba.cut(x) if i not in stopwords])\n",
    "\n",
    "# 擷取關鍵字TF-IDF (top 15)\n",
    "jay['key_word'] = jay['lyric_cut'].astype(str).apply(lambda x : [i for i in jieba.analyse.extract_tags(x, topK=15)])"
   ]
  },
  {
   "cell_type": "code",
   "execution_count": 19,
   "metadata": {},
   "outputs": [],
   "source": [
    "all_song = []\n",
    "for i in range(len(jay)):\n",
    "    tmp = jay['key_word'][i]\n",
    "    all_song.extend(tmp)"
   ]
  },
  {
   "cell_type": "code",
   "execution_count": 20,
   "metadata": {},
   "outputs": [],
   "source": [
    "# 刪除字數小於2個字\n",
    "all_song_wordcloud = [word for word in all_song if len(word) >= 2]"
   ]
  },
  {
   "cell_type": "markdown",
   "metadata": {},
   "source": [
    "## 6.1 Word cloud"
   ]
  },
  {
   "cell_type": "code",
   "execution_count": 21,
   "metadata": {},
   "outputs": [
    {
     "data": {
      "image/png": "[encoded data removed]",
      "text/plain": [
       "<Figure size 720x360 with 1 Axes>"
      ]
     },
     "metadata": {
      "needs_background": "light"
     },
     "output_type": "display_data"
    },
    {
     "data": {
      "text/plain": [
       "<wordcloud.wordcloud.WordCloud at 0x1fc71447f10>"
      ]
     },
     "execution_count": 21,
     "metadata": {},
     "output_type": "execute_result"
    }
   ],
   "source": [
    "wc = WordCloud(background_color='black',       #設置背景顏色\n",
    "               font_path='./data/SimHei.ttf',  #設置字體格式，顯示中文\n",
    "               max_words=30)                   #設置最大實現的字數\n",
    "wc.generate(str(all_song_wordcloud))\n",
    "\n",
    "plt.figure(figsize=(10,5))\n",
    "plt.imshow(wc)\n",
    "plt.axis(\"off\")\n",
    "plt.show()\n",
    "\n",
    "wc.to_file('word_cloud.jpg')"
   ]
  },
  {
   "cell_type": "markdown",
   "metadata": {},
   "source": [
    "## 6.2 關鍵字 頻次表"
   ]
  },
  {
   "cell_type": "code",
   "execution_count": 22,
   "metadata": {},
   "outputs": [
    {
     "data": {
      "text/html": [
       "<div>\n",
       "<style scoped>\n",
       "    .dataframe tbody tr th:only-of-type {\n",
       "        vertical-align: middle;\n",
       "    }\n",
       "\n",
       "    .dataframe tbody tr th {\n",
       "        vertical-align: top;\n",
       "    }\n",
       "\n",
       "    .dataframe thead th {\n",
       "        text-align: right;\n",
       "    }\n",
       "</style>\n",
       "<table border=\"1\" class=\"dataframe\">\n",
       "  <thead>\n",
       "    <tr style=\"text-align: right;\">\n",
       "      <th></th>\n",
       "      <th>word</th>\n",
       "      <th>cnt</th>\n",
       "    </tr>\n",
       "  </thead>\n",
       "  <tbody>\n",
       "    <tr>\n",
       "      <th>0</th>\n",
       "      <td>離開</td>\n",
       "      <td>17</td>\n",
       "    </tr>\n",
       "    <tr>\n",
       "      <th>1</th>\n",
       "      <td>時間</td>\n",
       "      <td>10</td>\n",
       "    </tr>\n",
       "    <tr>\n",
       "      <th>2</th>\n",
       "      <td>愛情</td>\n",
       "      <td>10</td>\n",
       "    </tr>\n",
       "    <tr>\n",
       "      <th>3</th>\n",
       "      <td>眼淚</td>\n",
       "      <td>9</td>\n",
       "    </tr>\n",
       "    <tr>\n",
       "      <th>4</th>\n",
       "      <td>溫柔</td>\n",
       "      <td>8</td>\n",
       "    </tr>\n",
       "    <tr>\n",
       "      <th>5</th>\n",
       "      <td>不見</td>\n",
       "      <td>8</td>\n",
       "    </tr>\n",
       "    <tr>\n",
       "      <th>6</th>\n",
       "      <td>聲音</td>\n",
       "      <td>8</td>\n",
       "    </tr>\n",
       "    <tr>\n",
       "      <th>7</th>\n",
       "      <td>畫面</td>\n",
       "      <td>7</td>\n",
       "    </tr>\n",
       "    <tr>\n",
       "      <th>8</th>\n",
       "      <td>還在</td>\n",
       "      <td>7</td>\n",
       "    </tr>\n",
       "    <tr>\n",
       "      <th>9</th>\n",
       "      <td>回憶</td>\n",
       "      <td>7</td>\n",
       "    </tr>\n",
       "  </tbody>\n",
       "</table>\n",
       "</div>"
      ],
      "text/plain": [
       "  word  cnt\n",
       "0   離開   17\n",
       "1   時間   10\n",
       "2   愛情   10\n",
       "3   眼淚    9\n",
       "4   溫柔    8\n",
       "5   不見    8\n",
       "6   聲音    8\n",
       "7   畫面    7\n",
       "8   還在    7\n",
       "9   回憶    7"
      ]
     },
     "execution_count": 22,
     "metadata": {},
     "output_type": "execute_result"
    }
   ],
   "source": [
    "corpus = pd.DataFrame(all_song_wordcloud, columns=['word'])\n",
    "corpus['cnt'] = 1\n",
    "\n",
    "corpus_cnt = corpus.groupby(['word'])\\\n",
    "                   .agg({'cnt': 'count'})\\\n",
    "                   .sort_values('cnt', ascending=False)\\\n",
    "                   .reset_index(level=0)\n",
    "corpus_cnt.head(10)"
   ]
  },
  {
   "cell_type": "markdown",
   "metadata": {},
   "source": [
    "## 6.3 Final df"
   ]
  },
  {
   "cell_type": "code",
   "execution_count": 23,
   "metadata": {},
   "outputs": [
    {
     "data": {
      "text/plain": [
       "song          0\n",
       "lyric        26\n",
       "lyric_cut     0\n",
       "key_word      0\n",
       "dtype: int64"
      ]
     },
     "execution_count": 23,
     "metadata": {},
     "output_type": "execute_result"
    }
   ],
   "source": [
    "jay.isna().sum()"
   ]
  },
  {
   "cell_type": "code",
   "execution_count": 24,
   "metadata": {},
   "outputs": [],
   "source": [
    "jay = jay.dropna(axis=0,how='any')\n",
    "jay.reset_index(inplace=True, drop=False)"
   ]
  },
  {
   "cell_type": "code",
   "execution_count": 25,
   "metadata": {},
   "outputs": [
    {
     "data": {
      "text/html": [
       "<div>\n",
       "<style scoped>\n",
       "    .dataframe tbody tr th:only-of-type {\n",
       "        vertical-align: middle;\n",
       "    }\n",
       "\n",
       "    .dataframe tbody tr th {\n",
       "        vertical-align: top;\n",
       "    }\n",
       "\n",
       "    .dataframe thead th {\n",
       "        text-align: right;\n",
       "    }\n",
       "</style>\n",
       "<table border=\"1\" class=\"dataframe\">\n",
       "  <thead>\n",
       "    <tr style=\"text-align: right;\">\n",
       "      <th></th>\n",
       "      <th>index</th>\n",
       "      <th>song</th>\n",
       "      <th>lyric</th>\n",
       "      <th>lyric_cut</th>\n",
       "      <th>key_word</th>\n",
       "    </tr>\n",
       "  </thead>\n",
       "  <tbody>\n",
       "    <tr>\n",
       "      <th>0</th>\n",
       "      <td>0</td>\n",
       "      <td>可愛女人</td>\n",
       "      <td>作詞徐若瑄作曲周杰倫編曲周杰倫想要有直升機想要和妳飛到宇宙去想要和妳融化在一起融化在銀河裡我...</td>\n",
       "      <td>[直升, 機, 妳, 飛到, 宇宙, 妳, 融化, 融化, 銀河裡, 想想, 想想, 妳, ...</td>\n",
       "      <td>[女人, 面紅, 感動, 瘋狂, 心疼, 溫柔, 壞壞, 透明, 漂亮, 想想, 感謝, 地...</td>\n",
       "    </tr>\n",
       "    <tr>\n",
       "      <th>1</th>\n",
       "      <td>1</td>\n",
       "      <td>完美主義</td>\n",
       "      <td>作詞方文山作曲周杰倫編曲洪敬堯如果說懷疑可以造句如果說分離能夠翻譯如果這一切真的可以我想要將...</td>\n",
       "      <td>[懷疑, 造句, 分離, 翻譯, 將我, 寂寞, 封閉, 然後在, 日期, 然後將, 慢慢,...</td>\n",
       "      <td>[主義, 太徹底, 完美, 連恨, 懷疑, 分離, 翻譯, 將我, 封閉, 然後在, 然後將...</td>\n",
       "    </tr>\n",
       "    <tr>\n",
       "      <th>2</th>\n",
       "      <td>2</td>\n",
       "      <td>星晴</td>\n",
       "      <td>作詞周杰倫作曲周杰倫編曲洪敬堯一步兩步三步四步望著天看星星一顆兩顆三顆四顆連成線一步兩步三步...</td>\n",
       "      <td>[兩步, 三步, 四步, 著天, 星星, 一顆, 兩顆, 三顆, 四顆, 連成線, 兩步, ...</td>\n",
       "      <td>[兩步, 著天, 一顆, 兩顆, 三顆, 四顆, 連成線, 四步, 三步, 星星, 帶領, ...</td>\n",
       "    </tr>\n",
       "    <tr>\n",
       "      <th>3</th>\n",
       "      <td>3</td>\n",
       "      <td>娘子</td>\n",
       "      <td>作詞方文山作曲周杰倫編曲周杰倫娘子娘子卻依舊每日折一枝楊柳妳在那裡在小村外的溪邊河口默默等著...</td>\n",
       "      <td>[娘子, 娘子, 依舊, 每日, 折, 一枝, 楊柳, 妳在, 小村, 外, 溪邊, 河口,...</td>\n",
       "      <td>[娘子, 依舊, 楊柳, 溪邊, 小村, 妳在, 一枝, 默默, 每日, 一壺, 熱粥, 幾...</td>\n",
       "    </tr>\n",
       "    <tr>\n",
       "      <th>4</th>\n",
       "      <td>4</td>\n",
       "      <td>鬥牛</td>\n",
       "      <td>作詞方文山作曲周杰倫編曲洪敬堯要不要挑一下啊挑一下丫隨便阿有什麼不妥有話就直說別窩在角落不爽...</td>\n",
       "      <td>[挑, 挑, 丫隨便, 阿有, 不妥, 有話, 直, 窩, 角落, 不爽, 反駁, 跩, 懂...</td>\n",
       "      <td>[看著, 怎麼面, 開球, 滿腔, 很久別, 我別, 發抖, 你給, 頭有, 醫藥箱, 別怪...</td>\n",
       "    </tr>\n",
       "    <tr>\n",
       "      <th>...</th>\n",
       "      <td>...</td>\n",
       "      <td>...</td>\n",
       "      <td>...</td>\n",
       "      <td>...</td>\n",
       "      <td>...</td>\n",
       "    </tr>\n",
       "    <tr>\n",
       "      <th>149</th>\n",
       "      <td>175</td>\n",
       "      <td>床邊故事</td>\n",
       "      <td>作詞方文山作曲周杰倫編曲黃雨勳從前從前有隻貓頭鷹牠站在屋頂屋頂後面一片森林森林很安靜安靜的鋼...</td>\n",
       "      <td>[從前, 前, 隻, 貓頭鷹, 牠, 站, 屋頂, 屋, 頂後面, 森林, 森林, 很安靜安...</td>\n",
       "      <td>[上燈, 敲敲, 天黑, 翻頁, 躲著, 童年, 蘋果, 數後關, 三二一入, 夢境, 繽紛...</td>\n",
       "    </tr>\n",
       "    <tr>\n",
       "      <th>150</th>\n",
       "      <td>176</td>\n",
       "      <td>愛情廢柴</td>\n",
       "      <td>作詞周杰倫作曲周杰倫編曲黃雨勳聖誕節剩下單人的剩單節過條街最好又給我下起雪這麼衰這麼剛好這麼...</td>\n",
       "      <td>[聖誕節, 剩下, 單人, 剩單, 節過, 條街, 又給, 起雪, 衰, 狼狽要, 拍, 成...</td>\n",
       "      <td>[封麥, 愛哭個, 曲終, 人散, 我承認, 愛情裡, 離開, 依賴, 還在, 耍賴, 眼淚...</td>\n",
       "    </tr>\n",
       "    <tr>\n",
       "      <th>151</th>\n",
       "      <td>177</td>\n",
       "      <td>英雄</td>\n",
       "      <td>作詞周杰倫作曲周杰倫編曲黃雨勳人生不是一個人的遊戲一起奮鬥一起超越一起殺吧兄弟好戰好勝戰勝逆...</td>\n",
       "      <td>[人生, 遊戲, 奮鬥, 超越, 殺, 兄弟, 好戰, 勝戰勝, 逆命, 管它, 天, 賦夠...</td>\n",
       "      <td>[雙殺, 插眼, 傳送擊, 三殺, 勝利, 最後讓, 跳躍你閉, 著眼, 轉完會, 閉上, ...</td>\n",
       "    </tr>\n",
       "    <tr>\n",
       "      <th>152</th>\n",
       "      <td>178</td>\n",
       "      <td>說走就走</td>\n",
       "      <td>作詞方文山作曲周杰倫編曲黃雨勳伸出手搭便車唱著歌彈著斑鳩不遠處沙漠我們才剛剛經過路兩旁是單調...</td>\n",
       "      <td>[伸出手, 搭便, 車唱, 著歌, 彈著, 斑, 鳩, 不遠處, 沙漠, 剛剛, 路, 兩旁...</td>\n",
       "      <td>[星星, 天上, 證明, 輕該, 瀟灑, 我數, 無邊, 風景風, 呼嘯, 聲音, 守護, ...</td>\n",
       "    </tr>\n",
       "    <tr>\n",
       "      <th>153</th>\n",
       "      <td>179</td>\n",
       "      <td>不該</td>\n",
       "      <td>作詞方文山作曲周杰倫編曲黃雨勳周假裝我們還在一塊我真的演不出來還是不習慣你不在這身份轉變太快...</td>\n",
       "      <td>[周假裝, 還在, 演不出, 不習, 慣, 身份, 太快, 張畫, 面裡, 旁白, 看得出,...</td>\n",
       "      <td>[回憶裡, 最愛合, 雪融, 裡相愛他, 結晶, 愛的, 狀態, 不會永遠, 輕輕, 許下,...</td>\n",
       "    </tr>\n",
       "  </tbody>\n",
       "</table>\n",
       "<p>154 rows × 5 columns</p>\n",
       "</div>"
      ],
      "text/plain": [
       "     index  song                                              lyric  \\\n",
       "0        0  可愛女人  作詞徐若瑄作曲周杰倫編曲周杰倫想要有直升機想要和妳飛到宇宙去想要和妳融化在一起融化在銀河裡我...   \n",
       "1        1  完美主義  作詞方文山作曲周杰倫編曲洪敬堯如果說懷疑可以造句如果說分離能夠翻譯如果這一切真的可以我想要將...   \n",
       "2        2    星晴  作詞周杰倫作曲周杰倫編曲洪敬堯一步兩步三步四步望著天看星星一顆兩顆三顆四顆連成線一步兩步三步...   \n",
       "3        3    娘子  作詞方文山作曲周杰倫編曲周杰倫娘子娘子卻依舊每日折一枝楊柳妳在那裡在小村外的溪邊河口默默等著...   \n",
       "4        4    鬥牛  作詞方文山作曲周杰倫編曲洪敬堯要不要挑一下啊挑一下丫隨便阿有什麼不妥有話就直說別窩在角落不爽...   \n",
       "..     ...   ...                                                ...   \n",
       "149    175  床邊故事  作詞方文山作曲周杰倫編曲黃雨勳從前從前有隻貓頭鷹牠站在屋頂屋頂後面一片森林森林很安靜安靜的鋼...   \n",
       "150    176  愛情廢柴  作詞周杰倫作曲周杰倫編曲黃雨勳聖誕節剩下單人的剩單節過條街最好又給我下起雪這麼衰這麼剛好這麼...   \n",
       "151    177    英雄  作詞周杰倫作曲周杰倫編曲黃雨勳人生不是一個人的遊戲一起奮鬥一起超越一起殺吧兄弟好戰好勝戰勝逆...   \n",
       "152    178  說走就走  作詞方文山作曲周杰倫編曲黃雨勳伸出手搭便車唱著歌彈著斑鳩不遠處沙漠我們才剛剛經過路兩旁是單調...   \n",
       "153    179    不該  作詞方文山作曲周杰倫編曲黃雨勳周假裝我們還在一塊我真的演不出來還是不習慣你不在這身份轉變太快...   \n",
       "\n",
       "                                             lyric_cut  \\\n",
       "0    [直升, 機, 妳, 飛到, 宇宙, 妳, 融化, 融化, 銀河裡, 想想, 想想, 妳, ...   \n",
       "1    [懷疑, 造句, 分離, 翻譯, 將我, 寂寞, 封閉, 然後在, 日期, 然後將, 慢慢,...   \n",
       "2    [兩步, 三步, 四步, 著天, 星星, 一顆, 兩顆, 三顆, 四顆, 連成線, 兩步, ...   \n",
       "3    [娘子, 娘子, 依舊, 每日, 折, 一枝, 楊柳, 妳在, 小村, 外, 溪邊, 河口,...   \n",
       "4    [挑, 挑, 丫隨便, 阿有, 不妥, 有話, 直, 窩, 角落, 不爽, 反駁, 跩, 懂...   \n",
       "..                                                 ...   \n",
       "149  [從前, 前, 隻, 貓頭鷹, 牠, 站, 屋頂, 屋, 頂後面, 森林, 森林, 很安靜安...   \n",
       "150  [聖誕節, 剩下, 單人, 剩單, 節過, 條街, 又給, 起雪, 衰, 狼狽要, 拍, 成...   \n",
       "151  [人生, 遊戲, 奮鬥, 超越, 殺, 兄弟, 好戰, 勝戰勝, 逆命, 管它, 天, 賦夠...   \n",
       "152  [伸出手, 搭便, 車唱, 著歌, 彈著, 斑, 鳩, 不遠處, 沙漠, 剛剛, 路, 兩旁...   \n",
       "153  [周假裝, 還在, 演不出, 不習, 慣, 身份, 太快, 張畫, 面裡, 旁白, 看得出,...   \n",
       "\n",
       "                                              key_word  \n",
       "0    [女人, 面紅, 感動, 瘋狂, 心疼, 溫柔, 壞壞, 透明, 漂亮, 想想, 感謝, 地...  \n",
       "1    [主義, 太徹底, 完美, 連恨, 懷疑, 分離, 翻譯, 將我, 封閉, 然後在, 然後將...  \n",
       "2    [兩步, 著天, 一顆, 兩顆, 三顆, 四顆, 連成線, 四步, 三步, 星星, 帶領, ...  \n",
       "3    [娘子, 依舊, 楊柳, 溪邊, 小村, 妳在, 一枝, 默默, 每日, 一壺, 熱粥, 幾...  \n",
       "4    [看著, 怎麼面, 開球, 滿腔, 很久別, 我別, 發抖, 你給, 頭有, 醫藥箱, 別怪...  \n",
       "..                                                 ...  \n",
       "149  [上燈, 敲敲, 天黑, 翻頁, 躲著, 童年, 蘋果, 數後關, 三二一入, 夢境, 繽紛...  \n",
       "150  [封麥, 愛哭個, 曲終, 人散, 我承認, 愛情裡, 離開, 依賴, 還在, 耍賴, 眼淚...  \n",
       "151  [雙殺, 插眼, 傳送擊, 三殺, 勝利, 最後讓, 跳躍你閉, 著眼, 轉完會, 閉上, ...  \n",
       "152  [星星, 天上, 證明, 輕該, 瀟灑, 我數, 無邊, 風景風, 呼嘯, 聲音, 守護, ...  \n",
       "153  [回憶裡, 最愛合, 雪融, 裡相愛他, 結晶, 愛的, 狀態, 不會永遠, 輕輕, 許下,...  \n",
       "\n",
       "[154 rows x 5 columns]"
      ]
     },
     "execution_count": 25,
     "metadata": {},
     "output_type": "execute_result"
    }
   ],
   "source": [
    "jay"
   ]
  },
  {
   "cell_type": "code",
   "execution_count": null,
   "metadata": {},
   "outputs": [],
   "source": []
  }
 ],
 "metadata": {
  "kernelspec": {
   "display_name": "Python 3 (ipykernel)",
   "language": "python",
   "name": "python3"
  },
  "language_info": {
   "codemirror_mode": {
    "name": "ipython",
    "version": 3
   },
   "file_extension": ".py",
   "mimetype": "text/x-python",
   "name": "python",
   "nbconvert_exporter": "python",
   "pygments_lexer": "ipython3",
   "version": "3.8.0"
  }
 },
 "nbformat": 4,
 "nbformat_minor": 4
}
