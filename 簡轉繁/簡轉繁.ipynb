{
 "cells": [
  {
   "cell_type": "markdown",
   "id": "93badd44",
   "metadata": {},
   "source": [
    "https://github.com/yichen0831/opencc-python"
   ]
  },
  {
   "cell_type": "code",
   "execution_count": null,
   "id": "270ef2ed",
   "metadata": {},
   "outputs": [],
   "source": [
    "# !pip3 install opencc\n",
    "from opencc import OpenCC"
   ]
  },
  {
   "cell_type": "code",
   "execution_count": null,
   "id": "64e87439",
   "metadata": {},
   "outputs": [],
   "source": [
    "jay = pd.read_csv('jay_song_simple.csv', sep = \",\", encoding = \"UTF-8\")\n",
    "\n",
    "cc = OpenCC('s2tw')\n",
    "\n",
    "jay_df = jay[['song', 'artist', 'lyric', 'arranger', 'release_date', 'distributor', 'lyric_len']]\n",
    "\n",
    "for i in jay_df.columns.tolist():\n",
    "    jay_df[i] = jay_df[i].astype(str).apply(cc.convert)\n",
    "\n",
    "jay_df.to_csv (r'jay_song_tw.csv', index = None)"
   ]
  }
 ],
 "metadata": {
  "kernelspec": {
   "display_name": "Python 3 (ipykernel)",
   "language": "python",
   "name": "python3"
  },
  "language_info": {
   "codemirror_mode": {
    "name": "ipython",
    "version": 3
   },
   "file_extension": ".py",
   "mimetype": "text/x-python",
   "name": "python",
   "nbconvert_exporter": "python",
   "pygments_lexer": "ipython3",
   "version": "3.9.12"
  }
 },
 "nbformat": 4,
 "nbformat_minor": 5
}
